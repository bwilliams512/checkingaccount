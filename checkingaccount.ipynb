{
 "cells": [
  {
   "cell_type": "code",
   "execution_count": 1,
   "id": "be9b252e",
   "metadata": {},
   "outputs": [
    {
     "name": "stdout",
     "output_type": "stream",
     "text": [
      "Stella McCartney's checking account. Balance: $0.00\n",
      "Balance: $0.00\n",
      "Deposited amount: $2000.00\n",
      "Balance: $2000.00\n",
      "Withdarawal amount: $1000.00\n",
      "Balance: $1000.00\n",
      "Stella McCartney's checking account. Balance: $1000.00\n"
     ]
    }
   ],
   "source": [
    "\"\"\"\n",
    "In this project, I created a Python class that can be used\n",
    "to create and manipulate a personal checking account.\n",
    "\n",
    "The console should show:\n",
    "The account holder name and initial balance\n",
    "The deposit (along with the balance)\n",
    "The withdrawal (along with the balance)\n",
    "The checking account’s most recent information\n",
    "\"\"\"\n",
    "\n",
    "class CheckingAccount(object):\n",
    "  # add a member variable to represent the starting balance\n",
    "  balance = 0\n",
    "  \n",
    "  # add method that will make sure that whatever name the user types will be attributed to that object\n",
    "  def __init__(self, name):\n",
    "    self.name = name\n",
    "\n",
    "  # add method that returns the bank account information\n",
    "  def __repr__(self):\n",
    "    return \"%s's checking account. Balance: $%.2f\" % (self.name, self.balance)\n",
    "\n",
    "  # add a method that can print the user balance only \n",
    "  def show_balance(self):\n",
    "    print(\"Balance: $%.2f\" % (self.balance))\n",
    "\n",
    "  # add a method that allows deposits to the bank account\n",
    "  def deposit(self, amount):\n",
    "    self.amount = amount\n",
    "    # add if statement that checks if amount is less than or equal to zero\n",
    "    if amount <= 0:\n",
    "        print(\"Invalid amount entered. Try again\")\n",
    "        return\n",
    "    else:\n",
    "        print(\"Deposited amount: $%.2f\" % (self.amount))\n",
    "        self.balance += amount\n",
    "        self.show_balance()\n",
    "\n",
    "  # add a method that allows withdrawals from the bank account\n",
    "  def withdraw(self, amount):\n",
    "    self.amount = amount\n",
    "    # add if statement that checks if amount is less than or equal to zero\n",
    "    if amount > self.balance:\n",
    "        print(\"Withdrawal error: insufficient funds\")\n",
    "        return\n",
    "    else:\n",
    "        print(\"Withdarawal amount: $%.2f\" % (self.amount))\n",
    "        self.balance -= amount\n",
    "        self.show_balance()\n",
    "    \n",
    "# first - create a CheckingAccount object to test it out\n",
    "my_account = CheckingAccount(\"Stella McCartney\")\n",
    "print(my_account)\n",
    "\n",
    "# second - call the show_balance() method on my_account\n",
    "my_account.show_balance()\n",
    "\n",
    "# third - test the deposit() method \n",
    "my_account.deposit(2000)\n",
    "\n",
    "# fourth - test the withdraw() method \n",
    "my_account.withdraw(1000)\n",
    "\n",
    "# last - let's see if the __repr__() method accurately reflects the changes to my_account\n",
    "print(my_account)\n"
   ]
  },
  {
   "cell_type": "code",
   "execution_count": null,
   "id": "ec80efe5",
   "metadata": {},
   "outputs": [],
   "source": []
  }
 ],
 "metadata": {
  "kernelspec": {
   "display_name": "Python 3",
   "language": "python",
   "name": "python3"
  },
  "language_info": {
   "codemirror_mode": {
    "name": "ipython",
    "version": 3
   },
   "file_extension": ".py",
   "mimetype": "text/x-python",
   "name": "python",
   "nbconvert_exporter": "python",
   "pygments_lexer": "ipython3",
   "version": "3.8.8"
  }
 },
 "nbformat": 4,
 "nbformat_minor": 5
}
